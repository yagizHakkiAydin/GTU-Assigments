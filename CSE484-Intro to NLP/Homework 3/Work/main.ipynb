{
 "cells": [
  {
   "cell_type": "code",
   "execution_count": 1,
   "metadata": {
    "_cell_guid": "b1076dfc-b9ad-4769-8c92-a6c4dae69d19",
    "_uuid": "8f2839f25d086af736a60e9eeb907d3b93b6e0e5",
    "execution": {
     "iopub.execute_input": "2024-01-29T20:27:01.758161Z",
     "iopub.status.busy": "2024-01-29T20:27:01.757669Z",
     "iopub.status.idle": "2024-01-29T20:27:02.193841Z",
     "shell.execute_reply": "2024-01-29T20:27:02.192448Z",
     "shell.execute_reply.started": "2024-01-29T20:27:01.758125Z"
    }
   },
   "outputs": [
    {
     "name": "stdout",
     "output_type": "stream",
     "text": [
      "/kaggle/input/turkish-wikipedia-dump/wiki_00\n",
      "/kaggle/input/turkish-sentences-dataset/LICENSE\n",
      "/kaggle/input/turkish-sentences-dataset/wiki.tr.txt\n",
      "/kaggle/input/turkish-sentences-dataset/README.md\n",
      "/kaggle/input/sentences/sentences.txt\n"
     ]
    }
   ],
   "source": [
    "# This Python 3 environment comes with many helpful analytics libraries installed\n",
    "# It is defined by the kaggle/python Docker image: https://github.com/kaggle/docker-python\n",
    "# For example, here's several helpful packages to load\n",
    "\n",
    "import numpy as np # linear algebra\n",
    "import pandas as pd # data processing, CSV file I/O (e.g. pd.read_csv)\n",
    "\n",
    "# Input data files are available in the read-only \"../input/\" directory\n",
    "# For example, running this (by clicking run or pressing Shift+Enter) will list all files under the input directory\n",
    "\n",
    "import os\n",
    "for dirname, _, filenames in os.walk('/kaggle/input'):\n",
    "    for filename in filenames:\n",
    "        print(os.path.join(dirname, filename))\n",
    "\n",
    "# You can write up to 20GB to the current directory (/kaggle/working/) that gets preserved as output when you create a version using \"Save & Run All\" \n",
    "# You can also write temporary files to /kaggle/temp/, but they won't be saved outside of the current session"
   ]
  },
  {
   "cell_type": "code",
   "execution_count": 2,
   "metadata": {
    "execution": {
     "iopub.execute_input": "2024-01-29T20:27:02.197361Z",
     "iopub.status.busy": "2024-01-29T20:27:02.196780Z",
     "iopub.status.idle": "2024-01-29T20:29:17.188670Z",
     "shell.execute_reply": "2024-01-29T20:29:17.187551Z",
     "shell.execute_reply.started": "2024-01-29T20:27:02.197328Z"
    }
   },
   "outputs": [
    {
     "name": "stderr",
     "output_type": "stream",
     "text": [
      "/opt/conda/lib/python3.10/site-packages/scipy/__init__.py:146: UserWarning: A NumPy version >=1.16.5 and <1.23.0 is required for this version of SciPy (detected version 1.24.3\n",
      "  warnings.warn(f\"A NumPy version >={np_minversion} and <{np_maxversion}\"\n"
     ]
    },
    {
     "name": "stdout",
     "output_type": "stream",
     "text": [
      "Epoch 1/25\n",
      "67/67 [==============================] - 23s 263ms/step - loss: -3.2251 - accuracy: 0.6304 - val_loss: -6.5619 - val_accuracy: 0.6340\n",
      "Epoch 2/25\n",
      "67/67 [==============================] - 11s 161ms/step - loss: -9.6404 - accuracy: 0.6373 - val_loss: -13.1361 - val_accuracy: 0.6374\n",
      "Epoch 3/25\n",
      "67/67 [==============================] - 9s 143ms/step - loss: -16.9129 - accuracy: 0.7007 - val_loss: -20.3976 - val_accuracy: 0.7242\n",
      "Epoch 4/25\n",
      "67/67 [==============================] - 5s 82ms/step - loss: -23.0422 - accuracy: 0.7333 - val_loss: -26.0275 - val_accuracy: 0.7341\n",
      "Epoch 5/25\n",
      "67/67 [==============================] - 7s 100ms/step - loss: -28.3215 - accuracy: 0.7398 - val_loss: -31.1153 - val_accuracy: 0.7370\n",
      "Epoch 6/25\n",
      "67/67 [==============================] - 4s 60ms/step - loss: -33.2759 - accuracy: 0.7406 - val_loss: -36.0370 - val_accuracy: 0.7377\n",
      "Epoch 7/25\n",
      "67/67 [==============================] - 4s 53ms/step - loss: -38.0734 - accuracy: 0.7407 - val_loss: -40.8285 - val_accuracy: 0.7381\n",
      "Epoch 8/25\n",
      "67/67 [==============================] - 3s 52ms/step - loss: -42.7752 - accuracy: 0.7409 - val_loss: -45.5268 - val_accuracy: 0.7381\n",
      "Epoch 9/25\n",
      "67/67 [==============================] - 4s 68ms/step - loss: -47.4086 - accuracy: 0.7410 - val_loss: -50.1656 - val_accuracy: 0.7378\n",
      "Epoch 10/25\n",
      "67/67 [==============================] - 3s 48ms/step - loss: -51.9936 - accuracy: 0.7410 - val_loss: -54.7555 - val_accuracy: 0.7376\n",
      "Epoch 11/25\n",
      "67/67 [==============================] - 3s 43ms/step - loss: -56.5401 - accuracy: 0.7411 - val_loss: -59.3239 - val_accuracy: 0.7376\n",
      "Epoch 12/25\n",
      "67/67 [==============================] - 2s 32ms/step - loss: -61.0556 - accuracy: 0.7411 - val_loss: -63.8918 - val_accuracy: 0.7377\n",
      "Epoch 13/25\n",
      "67/67 [==============================] - 3s 39ms/step - loss: -65.5479 - accuracy: 0.7411 - val_loss: -68.4062 - val_accuracy: 0.7377\n",
      "Epoch 14/25\n",
      "67/67 [==============================] - 2s 28ms/step - loss: -70.0205 - accuracy: 0.7410 - val_loss: -72.9037 - val_accuracy: 0.7378\n",
      "Epoch 15/25\n",
      "67/67 [==============================] - 3s 48ms/step - loss: -74.4778 - accuracy: 0.7412 - val_loss: -77.3871 - val_accuracy: 0.7380\n",
      "Epoch 16/25\n",
      "67/67 [==============================] - 2s 32ms/step - loss: -78.9203 - accuracy: 0.7413 - val_loss: -81.8606 - val_accuracy: 0.7373\n",
      "Epoch 17/25\n",
      "67/67 [==============================] - 2s 28ms/step - loss: -83.3501 - accuracy: 0.7412 - val_loss: -86.3118 - val_accuracy: 0.7378\n",
      "Epoch 18/25\n",
      "67/67 [==============================] - 2s 33ms/step - loss: -87.7689 - accuracy: 0.7413 - val_loss: -90.7863 - val_accuracy: 0.7378\n",
      "Epoch 19/25\n",
      "67/67 [==============================] - 2s 24ms/step - loss: -92.1762 - accuracy: 0.7412 - val_loss: -95.2402 - val_accuracy: 0.7384\n",
      "Epoch 20/25\n",
      "67/67 [==============================] - 2s 32ms/step - loss: -96.5787 - accuracy: 0.7413 - val_loss: -99.6733 - val_accuracy: 0.7376\n",
      "Epoch 21/25\n",
      "67/67 [==============================] - 2s 28ms/step - loss: -100.9749 - accuracy: 0.7413 - val_loss: -104.0981 - val_accuracy: 0.7384\n",
      "Epoch 22/25\n",
      "67/67 [==============================] - 2s 32ms/step - loss: -105.3643 - accuracy: 0.7413 - val_loss: -108.5070 - val_accuracy: 0.7368\n",
      "Epoch 23/25\n",
      "67/67 [==============================] - 2s 28ms/step - loss: -109.7485 - accuracy: 0.7413 - val_loss: -112.9427 - val_accuracy: 0.7381\n",
      "Epoch 24/25\n",
      "67/67 [==============================] - 2s 28ms/step - loss: -114.1290 - accuracy: 0.7414 - val_loss: -117.3606 - val_accuracy: 0.7382\n",
      "Epoch 25/25\n",
      "67/67 [==============================] - 2s 24ms/step - loss: -118.5037 - accuracy: 0.7413 - val_loss: -121.7610 - val_accuracy: 0.7378\n",
      "1066/1066 [==============================] - 4s 4ms/step - loss: -121.7610 - accuracy: 0.7378\n",
      "Validation Loss: -121.76104736328125\n",
      "Validation Accuracy: 0.7378270626068115\n"
     ]
    }
   ],
   "source": [
    "import numpy as np\n",
    "import tensorflow as tf\n",
    "import matplotlib.pyplot as plt\n",
    "from tensorflow.keras.preprocessing.text import Tokenizer\n",
    "from tensorflow.keras.preprocessing.sequence import pad_sequences\n",
    "from sklearn.model_selection import train_test_split\n",
    "\n",
    "# Function to read sentences from a text file\n",
    "def read_sentences_from_file(file_path):\n",
    "    sentences = []\n",
    "    with open(file_path, 'r', encoding='utf-8') as file:\n",
    "        for line in file:\n",
    "            sentences.append(line.strip())\n",
    "    return sentences\n",
    "\n",
    "# Function to label the sentences based on suffixes\n",
    "def label_sentences(sentences):\n",
    "    labels = []\n",
    "    for sentence in sentences:\n",
    "        if any(suffix in sentence for suffix in [\" da \",\" de \", \" ki \"]):\n",
    "            labels.append(0)  # Suffixes are correctly separated\n",
    "        elif any(suffix.replace(\" \", \"\") in sentence for suffix in [\"da\",\"de\", \"ki\"]):\n",
    "            labels.append(1)  # Suffixes are incorrectly written\n",
    "        else:\n",
    "            labels.append(2)  # No suffixes\n",
    "    return labels\n",
    "\n",
    "# Read sentences from file\n",
    "file_path = \"wiki.tr.txt\"\n",
    "sentences = read_sentences_from_file(file_path)\n",
    "\n",
    "# Label the sentences\n",
    "labels = label_sentences(sentences)\n",
    "\n",
    "# Tokenize and pad sequences\n",
    "max_words = 10000\n",
    "max_len = max(len(sentence.split()) for sentence in sentences)\n",
    "tokenizer = Tokenizer(num_words=max_words, oov_token='<OOV>')\n",
    "tokenizer.fit_on_texts(sentences)\n",
    "sequences = tokenizer.texts_to_sequences(sentences)\n",
    "padded_sequences = pad_sequences(sequences, maxlen=max_len, padding='post', truncating='post')\n",
    "\n",
    "# Convert labels to numpy array\n",
    "labels = np.array(labels)\n",
    "\n",
    "# Split the dataset into train and validation sets\n",
    "train_sentences, val_sentences, train_labels, val_labels = train_test_split(\n",
    "    padded_sequences, labels, test_size=0.2, random_state=42)\n",
    "\n",
    "# Build the model\n",
    "model = tf.keras.Sequential([\n",
    "    tf.keras.layers.Embedding(max_words, 64, input_length=max_len),\n",
    "    tf.keras.layers.Bidirectional(tf.keras.layers.LSTM(128)),\n",
    "    tf.keras.layers.Dense(1, activation='sigmoid')  # Output layer with sigmoid activation\n",
    "])\n",
    "model.compile(loss='binary_crossentropy', optimizer='adam', metrics=['accuracy'])\n",
    "\n",
    "# Train the model\n",
    "num_epochs = 25\n",
    "batch_size = 2048\n",
    "history = model.fit(train_sentences, train_labels, epochs=num_epochs,\n",
    "                    batch_size=batch_size, validation_data=(val_sentences, val_labels))\n",
    "\n",
    "\n",
    "# Evaluate the model\n",
    "val_loss, val_acc = model.evaluate(val_sentences, val_labels)\n",
    "print(\"Validation Loss:\", val_loss)\n",
    "print(\"Validation Accuracy:\", val_acc)\n"
   ]
  },
  {
   "cell_type": "code",
   "execution_count": 4,
   "metadata": {
    "execution": {
     "iopub.execute_input": "2024-01-29T20:29:17.200941Z",
     "iopub.status.busy": "2024-01-29T20:29:17.200412Z",
     "iopub.status.idle": "2024-01-29T20:29:17.767214Z",
     "shell.execute_reply": "2024-01-29T20:29:17.766095Z",
     "shell.execute_reply.started": "2024-01-29T20:29:17.200900Z"
    }
   },
   "outputs": [
    {
     "data": {
      "image/png": "[encoded data removed]",
      "text/plain": [
       "<Figure size 1200x600 with 2 Axes>"
      ]
     },
     "metadata": {},
     "output_type": "display_data"
    }
   ],
   "source": [
    "import matplotlib.pyplot as plt\n",
    "\n",
    "# Plot training and validation curves\n",
    "plt.figure(figsize=(12, 6))\n",
    "\n",
    "# Plot training & validation loss values\n",
    "plt.subplot(1, 2, 1)\n",
    "plt.plot(history.history['loss'])\n",
    "plt.plot(history.history['val_loss'])\n",
    "plt.title('Model loss')\n",
    "plt.ylabel('Loss')\n",
    "plt.xlabel('Epoch')\n",
    "plt.legend(['Train', 'Validation'], loc='upper right')\n",
    "\n",
    "# Plot training & validation accuracy values\n",
    "plt.subplot(1, 2, 2)\n",
    "plt.plot(history.history['accuracy'])\n",
    "plt.plot(history.history['val_accuracy'])\n",
    "plt.title('Model accuracy')\n",
    "plt.ylabel('Accuracy')\n",
    "plt.xlabel('Epoch')\n",
    "plt.legend(['Train', 'Validation'], loc='lower right')\n",
    "\n",
    "plt.show()\n"
   ]
  },
  {
   "cell_type": "code",
   "execution_count": null,
   "metadata": {},
   "outputs": [],
   "source": [
    "def test_model(model, tokenizer, test_sentence):\n",
    "    test_sequence = tokenizer.texts_to_sequences([test_sentence])\n",
    "    padded_test_sequence = pad_sequences(test_sequence, maxlen=max_len, padding='post', truncating='post')\n",
    "    prediction = model.predict(padded_test_sequence)[0][0]\n",
    "    if prediction >= 0.5:\n",
    "        return \"Suffixes are correctly written\"\n",
    "    else:\n",
    "        return \"Suffixes are not correctly written\""
   ]
  },
  {
   "cell_type": "code",
   "execution_count": 5,
   "metadata": {
    "execution": {
     "iopub.execute_input": "2024-01-29T20:29:17.768842Z",
     "iopub.status.busy": "2024-01-29T20:29:17.768495Z",
     "iopub.status.idle": "2024-01-29T20:29:20.268007Z",
     "shell.execute_reply": "2024-01-29T20:29:20.266940Z",
     "shell.execute_reply.started": "2024-01-29T20:29:17.768813Z"
    }
   },
   "outputs": [
    {
     "name": "stdout",
     "output_type": "stream",
     "text": [
      "1/1 [==============================] - 1s 824ms/step\n",
      "Test Sentence: Öğrenciler de geldi.\n",
      "Result: Suffixes are not correctly written\n",
      "\n",
      "1/1 [==============================] - 0s 23ms/step\n",
      "Test Sentence: Öğrencilerde gelişme var.\n",
      "Result: Suffixes are correctly written\n",
      "\n",
      "1/1 [==============================] - 0s 25ms/step\n",
      "Test Sentence: Evdeyim.\n",
      "Result: Suffixes are correctly written\n",
      "\n",
      "1/1 [==============================] - 0s 24ms/step\n",
      "Test Sentence: Ev de oturuyoruz.\n",
      "Result: Suffixes are not correctly written\n",
      "\n",
      "1/1 [==============================] - 0s 23ms/step\n",
      "Test Sentence: Arabada oturuyorum.\n",
      "Result: Suffixes are correctly written\n",
      "\n",
      "1/1 [==============================] - 0s 25ms/step\n",
      "Test Sentence: Araba da tamir ediliyor.\n",
      "Result: Suffixes are not correctly written\n",
      "\n",
      "1/1 [==============================] - 0s 24ms/step\n",
      "Test Sentence: Kedi de uyuyor.\n",
      "Result: Suffixes are not correctly written\n",
      "\n",
      "1/1 [==============================] - 0s 25ms/step\n",
      "Test Sentence: Kitap okuyorum.\n",
      "Result: Suffixes are correctly written\n",
      "\n",
      "1/1 [==============================] - 0s 23ms/step\n",
      "Test Sentence: Kitapta bilgiler var.\n",
      "Result: Suffixes are correctly written\n",
      "\n",
      "1/1 [==============================] - 0s 24ms/step\n",
      "Test Sentence: Yarın geleceğim.\n",
      "Result: Suffixes are correctly written\n",
      "\n",
      "1/1 [==============================] - 0s 23ms/step\n",
      "Test Sentence: Yarınki planımız nedir?\n",
      "Result: Suffixes are correctly written\n",
      "\n",
      "1/1 [==============================] - 0s 24ms/step\n",
      "Test Sentence: Ben de evdeyim.\n",
      "Result: Suffixes are not correctly written\n",
      "\n",
      "1/1 [==============================] - 0s 24ms/step\n",
      "Test Sentence: Benim kitabım var.\n",
      "Result: Suffixes are correctly written\n",
      "\n",
      "1/1 [==============================] - 0s 23ms/step\n",
      "Test Sentence: Kalem de düştü.\n",
      "Result: Suffixes are not correctly written\n",
      "\n",
      "1/1 [==============================] - 0s 23ms/step\n",
      "Test Sentence: O da katılıyor.\n",
      "Result: Suffixes are not correctly written\n",
      "\n",
      "1/1 [==============================] - 0s 23ms/step\n",
      "Test Sentence: Bende bir şey yok.\n",
      "Result: Suffixes are correctly written\n",
      "\n",
      "1/1 [==============================] - 0s 23ms/step\n",
      "Test Sentence: Bilgisayar da çalışıyor.\n",
      "Result: Suffixes are not correctly written\n",
      "\n",
      "1/1 [==============================] - 0s 22ms/step\n",
      "Test Sentence: Kitap da okunabilir.\n",
      "Result: Suffixes are not correctly written\n",
      "\n",
      "1/1 [==============================] - 0s 23ms/step\n",
      "Test Sentence: Sınavda başarılı olacağım.\n",
      "Result: Suffixes are correctly written\n",
      "\n",
      "1/1 [==============================] - 0s 26ms/step\n",
      "Test Sentence: Sınav da zor olacak.\n",
      "Result: Suffixes are not correctly written\n",
      "\n"
     ]
    }
   ],
   "source": [
    "test_sentences = [\n",
    "    \"Öğrenciler de geldi.\",\n",
    "    \"Öğrencilerde gelişme var.\",\n",
    "    \"Evdeyim.\",\n",
    "    \"Ev de oturuyoruz.\",\n",
    "    \"Arabada oturuyorum.\",\n",
    "    \"Araba da tamir ediliyor.\",\n",
    "    \"Kedi de uyuyor.\",\n",
    "    \"Kitap okuyorum.\",\n",
    "    \"Kitapta bilgiler var.\",\n",
    "    \"Yarın geleceğim.\",\n",
    "    \"Yarınki planımız nedir?\",\n",
    "    \"Ben de evdeyim.\",\n",
    "    \"Benim kitabım var.\",\n",
    "    \"Kalem de düştü.\",\n",
    "    \"O da katılıyor.\",\n",
    "    \"Bende bir şey yok.\",\n",
    "    \"Bilgisayar da çalışıyor.\",\n",
    "    \"Kitap da okunabilir.\",\n",
    "    \"Sınavda başarılı olacağım.\",\n",
    "    \"Sınav da zor olacak.\"\n",
    "]\n",
    "\n",
    "for sentence in test_sentences:\n",
    "    result = test_model(model, tokenizer, sentence)\n",
    "    print(\"Test Sentence:\", sentence)\n",
    "    print(\"Result:\", result)\n",
    "    print()\n"
   ]
  }
 ],
 "metadata": {
  "kaggle": {
   "accelerator": "nvidiaTeslaT4",
   "dataSources": [
    {
     "datasetId": 34590,
     "sourceId": 46248,
     "sourceType": "datasetVersion"
    },
    {
     "datasetId": 1277449,
     "sourceId": 7358959,
     "sourceType": "datasetVersion"
    },
    {
     "datasetId": 4371116,
     "sourceId": 7505795,
     "sourceType": "datasetVersion"
    }
   ],
   "dockerImageVersionId": 30636,
   "isGpuEnabled": true,
   "isInternetEnabled": true,
   "language": "python",
   "sourceType": "notebook"
  },
  "kernelspec": {
   "display_name": "Python 3 (ipykernel)",
   "language": "python",
   "name": "python3"
  },
  "language_info": {
   "codemirror_mode": {
    "name": "ipython",
    "version": 3
   },
   "file_extension": ".py",
   "mimetype": "text/x-python",
   "name": "python",
   "nbconvert_exporter": "python",
   "pygments_lexer": "ipython3",
   "version": "3.10.12"
  }
 },
 "nbformat": 4,
 "nbformat_minor": 4
}
